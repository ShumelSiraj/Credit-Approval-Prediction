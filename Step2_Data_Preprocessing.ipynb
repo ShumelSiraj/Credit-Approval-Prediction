{
 "cells": [
  {
   "cell_type": "code",
   "execution_count": 1,
   "metadata": {},
   "outputs": [
    {
     "name": "stdout",
     "output_type": "stream",
     "text": [
      "<class 'pandas.core.frame.DataFrame'>\n",
      "RangeIndex: 252135 entries, 0 to 252134\n",
      "Columns: 198 entries, SK_ID_CURR to AVG_APPLICATION_AMOUNT\n",
      "dtypes: float64(141), int64(41), object(16)\n",
      "memory usage: 380.9+ MB\n"
     ]
    },
    {
     "data": {
      "text/plain": [
       "(None,\n",
       "    SK_ID_CURR  TARGET NAME_CONTRACT_TYPE CODE_GENDER FLAG_OWN_CAR  \\\n",
       " 0      100002       1         Cash loans           M            N   \n",
       " 1      100003       0         Cash loans           F            N   \n",
       " 2      100004       0    Revolving loans           M            Y   \n",
       " 3      100006       0         Cash loans           F            N   \n",
       " 4      100007       0         Cash loans           M            N   \n",
       " \n",
       "   FLAG_OWN_REALTY  CNT_CHILDREN  AMT_INCOME_TOTAL  AMT_CREDIT  AMT_ANNUITY  \\\n",
       " 0               Y             0          202500.0    406597.5      24700.5   \n",
       " 1               N             0          270000.0   1293502.5      35698.5   \n",
       " 2               Y             0           67500.0    135000.0       6750.0   \n",
       " 3               Y             0          135000.0    312682.5      29686.5   \n",
       " 4               Y             0          121500.0    513000.0      21865.5   \n",
       " \n",
       "    ...  DAYS_INSTALMENT_MEAN_y DAYS_INSTALMENT_MAX_y DAYS_INSTALMENT_MIN_y  \\\n",
       " 0  ...             -295.000000                 -25.0                -565.0   \n",
       " 1  ...            -1378.160000                -536.0               -2310.0   \n",
       " 2  ...             -754.000000                -724.0                -784.0   \n",
       " 3  ...             -252.250000                 -11.0                -545.0   \n",
       " 4  ...            -1028.606061                 -14.0               -2326.0   \n",
       " \n",
       "   DAYS_ENTRY_PAYMENT_MEAN_y DAYS_ENTRY_PAYMENT_MAX_y DAYS_ENTRY_PAYMENT_MIN_y  \\\n",
       " 0               -315.421053                    -49.0                   -587.0   \n",
       " 1              -1385.320000                   -544.0                  -2324.0   \n",
       " 2               -761.666667                   -727.0                   -795.0   \n",
       " 3               -271.625000                    -12.0                   -575.0   \n",
       " 4              -1032.242424                    -14.0                  -2318.0   \n",
       " \n",
       "    BUREAU_LOAN_COUNT  AVG_CREDIT_SUM  PREVIOUS_APPLICATION_COUNT  \\\n",
       " 0                8.0   108131.945625                         1.0   \n",
       " 1                4.0   254350.125000                         3.0   \n",
       " 2                2.0    94518.900000                         1.0   \n",
       " 3                NaN             NaN                         9.0   \n",
       " 4                1.0   146250.000000                         6.0   \n",
       " \n",
       "    AVG_APPLICATION_AMOUNT  \n",
       " 0               179055.00  \n",
       " 1               435436.50  \n",
       " 2                24282.00  \n",
       " 3               272203.26  \n",
       " 4               150530.25  \n",
       " \n",
       " [5 rows x 198 columns])"
      ]
     },
     "execution_count": 1,
     "metadata": {},
     "output_type": "execute_result"
    }
   ],
   "source": [
    "import pandas as pd\n",
    "import numpy as np\n",
    "from sklearn.impute import SimpleImputer\n",
    "\n",
    "# Load the dataset\n",
    "file_path = 'C:/Users/shume/Downloads/CAP_Data/final_dataset.csv'\n",
    "data = pd.read_csv(file_path)\n",
    "\n",
    "# Display basic information about the dataset and the first few rows\n",
    "data.info(), data.head()"
   ]
  },
  {
   "cell_type": "markdown",
   "metadata": {},
   "source": [
    "Check for duplicates in the SK_ID_CURR column to ensure that each key is unique.\n",
    "Look for any missing values in this key column, which might cause issues during data integration or matching."
   ]
  },
  {
   "cell_type": "code",
   "execution_count": 2,
   "metadata": {},
   "outputs": [
    {
     "name": "stdout",
     "output_type": "stream",
     "text": [
      "Duplicate SK_ID_CURR: 0\n",
      "Missing SK_ID_CURR: 0\n"
     ]
    }
   ],
   "source": [
    "# Checking for duplicates and missing values in the SK_ID_CURR column\n",
    "duplicate_keys = data['SK_ID_CURR'].duplicated().sum()\n",
    "missing_keys = data['SK_ID_CURR'].isna().sum()\n",
    "print('Duplicate SK_ID_CURR:', duplicate_keys)\n",
    "print('Missing SK_ID_CURR:', missing_keys)"
   ]
  },
  {
   "cell_type": "markdown",
   "metadata": {},
   "source": [
    "To ensure that the features derived from external datasets like \"bureau\" and \"previous_application\" meaningfully contribute to your model, we can perform a few analyses:\n",
    "\n",
    "Assess the sparsity of these features to determine how much missing data each contains.\n",
    "Generate summary statistics for numerical features to get an overview of their distributions and identify any potential outliers or unusual patterns.\n",
    "Examine categorical features for the number of unique categories and the distribution of values within these categories.\n",
    "Consider strategies for dealing with missing data, such as imputation, creating binary indicators for missing data, or excluding features with excessive missingness if they do not add predictive value."
   ]
  },
  {
   "cell_type": "code",
   "execution_count": 6,
   "metadata": {},
   "outputs": [
    {
     "name": "stdout",
     "output_type": "stream",
     "text": [
      "Top 5 Missing Data Ratios:\n",
      "CNT_DRAWINGS_ATM_CURRENT_MEAN_x    0.79198\n",
      "AMT_DRAWINGS_ATM_CURRENT_MEAN_y    0.79198\n",
      "AMT_DRAWINGS_ATM_CURRENT_MEAN_x    0.79198\n",
      "CNT_DRAWINGS_ATM_CURRENT_MEAN_y    0.79198\n",
      "CNT_DRAWINGS_CURRENT_SUM_x         0.70561\n",
      "dtype: float64\n",
      "Numerical Columns:\n",
      "Index(['YEARS_EMPLOYED', 'CREDIT_INCOME_PERCENT', 'ANNUITY_INCOME_PERCENT',\n",
      "       'CREDIT_TERM', 'DAYS_EMPLOYED_PERCENT', 'BUREAU_LOAN_COUNT_x',\n",
      "       'AVG_CREDIT_SUM_x', 'PREVIOUS_APPLICATION_COUNT_x',\n",
      "       'AVG_APPLICATION_AMOUNT_x', 'AMT_BALANCE_MEAN_x', 'AMT_BALANCE_MAX_x',\n",
      "       'AMT_BALANCE_MIN_x', 'AMT_BALANCE_SUM_x',\n",
      "       'AMT_CREDIT_LIMIT_ACTUAL_MEAN_x', 'AMT_CREDIT_LIMIT_ACTUAL_MAX_x',\n",
      "       'AMT_DRAWINGS_ATM_CURRENT_MEAN_x', 'AMT_DRAWINGS_ATM_CURRENT_SUM_x',\n",
      "       'AMT_DRAWINGS_CURRENT_MEAN_x', 'AMT_DRAWINGS_CURRENT_SUM_x',\n",
      "       'AMT_PAYMENT_TOTAL_CURRENT_MEAN_x', 'AMT_PAYMENT_TOTAL_CURRENT_SUM_x',\n",
      "       'CNT_DRAWINGS_ATM_CURRENT_MEAN_x', 'CNT_DRAWINGS_ATM_CURRENT_SUM_x',\n",
      "       'CNT_DRAWINGS_CURRENT_MEAN_x', 'CNT_DRAWINGS_CURRENT_SUM_x',\n",
      "       'NUM_INSTALMENT_VERSION_MEAN_x', 'NUM_INSTALMENT_VERSION_SUM_x',\n",
      "       'NUM_INSTALMENT_NUMBER_MAX_x', 'AMT_INSTALMENT_MEAN_x',\n",
      "       'AMT_INSTALMENT_SUM_x', 'AMT_PAYMENT_MEAN_x', 'AMT_PAYMENT_SUM_x',\n",
      "       'DAYS_INSTALMENT_MEAN_x', 'DAYS_INSTALMENT_MAX_x',\n",
      "       'DAYS_INSTALMENT_MIN_x', 'DAYS_ENTRY_PAYMENT_MEAN_x',\n",
      "       'DAYS_ENTRY_PAYMENT_MAX_x', 'DAYS_ENTRY_PAYMENT_MIN_x',\n",
      "       'BUREAU_LOAN_COUNT_y', 'AVG_CREDIT_SUM_y',\n",
      "       'PREVIOUS_APPLICATION_COUNT_y', 'AVG_APPLICATION_AMOUNT_y',\n",
      "       'AMT_BALANCE_MEAN_y', 'AMT_BALANCE_MAX_y', 'AMT_BALANCE_MIN_y',\n",
      "       'AMT_BALANCE_SUM_y', 'AMT_CREDIT_LIMIT_ACTUAL_MEAN_y',\n",
      "       'AMT_CREDIT_LIMIT_ACTUAL_MAX_y', 'AMT_DRAWINGS_ATM_CURRENT_MEAN_y',\n",
      "       'AMT_DRAWINGS_ATM_CURRENT_SUM_y', 'AMT_DRAWINGS_CURRENT_MEAN_y',\n",
      "       'AMT_DRAWINGS_CURRENT_SUM_y', 'AMT_PAYMENT_TOTAL_CURRENT_MEAN_y',\n",
      "       'AMT_PAYMENT_TOTAL_CURRENT_SUM_y', 'CNT_DRAWINGS_ATM_CURRENT_MEAN_y',\n",
      "       'CNT_DRAWINGS_ATM_CURRENT_SUM_y', 'CNT_DRAWINGS_CURRENT_MEAN_y',\n",
      "       'CNT_DRAWINGS_CURRENT_SUM_y', 'NUM_INSTALMENT_VERSION_MEAN_y',\n",
      "       'NUM_INSTALMENT_VERSION_SUM_y', 'NUM_INSTALMENT_NUMBER_MAX_y',\n",
      "       'AMT_INSTALMENT_MEAN_y', 'AMT_INSTALMENT_SUM_y', 'AMT_PAYMENT_MEAN_y',\n",
      "       'AMT_PAYMENT_SUM_y', 'DAYS_INSTALMENT_MEAN_y', 'DAYS_INSTALMENT_MAX_y',\n",
      "       'DAYS_INSTALMENT_MIN_y', 'DAYS_ENTRY_PAYMENT_MEAN_y',\n",
      "       'DAYS_ENTRY_PAYMENT_MAX_y', 'DAYS_ENTRY_PAYMENT_MIN_y',\n",
      "       'BUREAU_LOAN_COUNT', 'AVG_CREDIT_SUM', 'PREVIOUS_APPLICATION_COUNT',\n",
      "       'AVG_APPLICATION_AMOUNT'],\n",
      "      dtype='object')\n",
      "Categorical Columns:\n",
      "Index([], dtype='object')\n"
     ]
    }
   ],
   "source": [
    "# Selecting columns from 123 onwards and calculating sparsity\n",
    "external_data_columns = data.columns[123:]\n",
    "missing_data_ratios = data[external_data_columns].isna().mean().sort_values(ascending=False)\n",
    "numerical_columns = data[external_data_columns].select_dtypes(include=['number']).columns  # Simplified to 'number'\n",
    "categorical_columns = data[external_data_columns].select_dtypes(include=['object']).columns\n",
    "\n",
    "# Displaying sparsity\n",
    "print('Top 5 Missing Data Ratios:')\n",
    "print(missing_data_ratios.head())\n",
    "print('Numerical Columns:')\n",
    "print(numerical_columns)\n",
    "print('Categorical Columns:')\n",
    "print(categorical_columns)"
   ]
  },
  {
   "cell_type": "code",
   "execution_count": 7,
   "metadata": {},
   "outputs": [
    {
     "name": "stdout",
     "output_type": "stream",
     "text": [
      "                               count           mean            std  \\\n",
      "YEARS_EMPLOYED              252135.0       6.527552       6.402080   \n",
      "CREDIT_INCOME_PERCENT       252135.0       3.857996       2.572014   \n",
      "ANNUITY_INCOME_PERCENT      252123.0       0.177266       0.090983   \n",
      "CREDIT_TERM                 252123.0       0.053892       0.022521   \n",
      "DAYS_EMPLOYED_PERCENT       252135.0       0.156863       0.133548   \n",
      "...                              ...            ...            ...   \n",
      "DAYS_ENTRY_PAYMENT_MIN_y    238829.0   -1585.284061     910.505471   \n",
      "BUREAU_LOAN_COUNT           216475.0       5.583236       4.380794   \n",
      "AVG_CREDIT_SUM              216474.0  410034.843870  968767.042907   \n",
      "PREVIOUS_APPLICATION_COUNT  238466.0       4.781013       4.049168   \n",
      "AVG_APPLICATION_AMOUNT      238466.0  153068.174776  156237.954134   \n",
      "\n",
      "                                    min            25%            50%  \\\n",
      "YEARS_EMPLOYED                 0.002738       2.099932       4.511978   \n",
      "CREDIT_INCOME_PERCENT          0.004808       2.000000       3.181818   \n",
      "ANNUITY_INCOME_PERCENT         0.000224       0.112500       0.160333   \n",
      "CREDIT_TERM                    0.022073       0.037060       0.050000   \n",
      "DAYS_EMPLOYED_PERCENT          0.000042       0.056100       0.118734   \n",
      "...                                 ...            ...            ...   \n",
      "DAYS_ENTRY_PAYMENT_MIN_y   -4921.000000   -2470.000000   -1533.000000   \n",
      "BUREAU_LOAN_COUNT              1.000000       2.000000       4.000000   \n",
      "AVG_CREDIT_SUM                 0.000000  105592.175625  209182.815000   \n",
      "PREVIOUS_APPLICATION_COUNT     1.000000       2.000000       4.000000   \n",
      "AVG_APPLICATION_AMOUNT         0.000000   60752.812500  103813.937500   \n",
      "\n",
      "                                      75%           max  \n",
      "YEARS_EMPLOYED                   8.692676  4.904038e+01  \n",
      "CREDIT_INCOME_PERCENT            5.020000  3.669231e+01  \n",
      "ANNUITY_INCOME_PERCENT           0.224960  1.451571e+00  \n",
      "CREDIT_TERM                      0.064314  1.244296e-01  \n",
      "DAYS_EMPLOYED_PERCENT            0.219170  7.288115e-01  \n",
      "...                                   ...           ...  \n",
      "DAYS_ENTRY_PAYMENT_MIN_y      -716.000000 -3.000000e+00  \n",
      "BUREAU_LOAN_COUNT                8.000000  1.160000e+02  \n",
      "AVG_CREDIT_SUM              434217.508887  1.980723e+08  \n",
      "PREVIOUS_APPLICATION_COUNT       6.000000  7.300000e+01  \n",
      "AVG_APPLICATION_AMOUNT      188134.218750  4.050000e+06  \n",
      "\n",
      "[75 rows x 8 columns]\n"
     ]
    }
   ],
   "source": [
    "# Summary statistics for the numerical columns\n",
    "summary_statistics = data[numerical_columns].describe().transpose()\n",
    "print(summary_statistics)"
   ]
  },
  {
   "cell_type": "markdown",
   "metadata": {},
   "source": [
    "Let's categorize the columns based on the percentage of missing data and suggest appropriate strategies for each category:\n",
    "\n",
    "Low Missingness (Less than 20%): Impute using simple methods like mean, median, or mode.\n",
    "Moderate Missingness (20% to 50%): Consider more sophisticated imputation methods or using placeholders if the feature is important.\n",
    "High Missingness (More than 50%): Evaluate the necessity of the feature. Consider excluding it or using model-based imputation if the feature is crucial."
   ]
  },
  {
   "cell_type": "code",
   "execution_count": 8,
   "metadata": {},
   "outputs": [
    {
     "name": "stdout",
     "output_type": "stream",
     "text": [
      "Low Missingness: 40 columns\n",
      "Moderate Missingness: 0 columns\n",
      "High Missingness: 32 columns\n",
      "Column counts by missingness category: {'low': 40, 'moderate': 0, 'high': 32}\n"
     ]
    }
   ],
   "source": [
    "# Categorizing columns based on the percentage of missing data\n",
    "thresholds = {\n",
    "    'low': (0, 0.20),\n",
    "    'moderate': (0.20, 0.50),\n",
    "    'high': (0.50, 1.0)\n",
    "}\n",
    "missingness_categories = {\n",
    "    k: missing_data_ratios[(missing_data_ratios > v[0]) & (missing_data_ratios <= v[1])]\n",
    "    for k, v in thresholds.items()\n",
    "}\n",
    "\n",
    "# Display missingness categories\n",
    "for category, values in missingness_categories.items():\n",
    "    print(f'{category.capitalize()} Missingness: {len(values)} columns')\n",
    "\n",
    "# Count the number of columns in each category\n",
    "column_counts = {category: len(cols) for category, cols in missingness_categories.items()}\n",
    "\n",
    "# Output the number of columns in each category\n",
    "print('Column counts by missingness category:', column_counts)"
   ]
  },
  {
   "cell_type": "code",
   "execution_count": null,
   "metadata": {},
   "outputs": [],
   "source": []
  }
 ],
 "metadata": {
  "kernelspec": {
   "display_name": "Python 3",
   "language": "python",
   "name": "python3"
  },
  "language_info": {
   "codemirror_mode": {
    "name": "ipython",
    "version": 3
   },
   "file_extension": ".py",
   "mimetype": "text/x-python",
   "name": "python",
   "nbconvert_exporter": "python",
   "pygments_lexer": "ipython3",
   "version": "3.12.2"
  }
 },
 "nbformat": 4,
 "nbformat_minor": 2
}
