{
 "cells": [
  {
   "cell_type": "code",
   "execution_count": 6,
   "metadata": {},
   "outputs": [
    {
     "name": "stdout",
     "output_type": "stream",
     "text": [
      "Sample file created for application_test.csv: C:/Users/shume/Downloads/CAP_Data/sample_files\\sample_application_test.csv\n",
      "Sample file created for application_train.csv: C:/Users/shume/Downloads/CAP_Data/sample_files\\sample_application_train.csv\n",
      "Sample file created for bureau.csv: C:/Users/shume/Downloads/CAP_Data/sample_files\\sample_bureau.csv\n",
      "Sample file created for bureau_balance.csv: C:/Users/shume/Downloads/CAP_Data/sample_files\\sample_bureau_balance.csv\n",
      "Sample file created for credit_card_balance.csv: C:/Users/shume/Downloads/CAP_Data/sample_files\\sample_credit_card_balance.csv\n",
      "Sample file created for HomeCredit_columns_description.csv: C:/Users/shume/Downloads/CAP_Data/sample_files\\sample_HomeCredit_columns_description.csv\n",
      "Sample file created for installments_payments.csv: C:/Users/shume/Downloads/CAP_Data/sample_files\\sample_installments_payments.csv\n",
      "Sample file created for POS_CASH_balance.csv: C:/Users/shume/Downloads/CAP_Data/sample_files\\sample_POS_CASH_balance.csv\n",
      "Sample file created for previous_application.csv: C:/Users/shume/Downloads/CAP_Data/sample_files\\sample_previous_application.csv\n",
      "Sample file created for sample_submission.csv: C:/Users/shume/Downloads/CAP_Data/sample_files\\sample_sample_submission.csv\n"
     ]
    }
   ],
   "source": [
    "import pandas as pd\n",
    "import os\n",
    "\n",
    "# Directory where your CSV files are located\n",
    "Main_directory = 'C:/Users/shume/Downloads/CAP_Data'\n",
    "# Directory where you want to save the sample files\n",
    "Sample_directory = 'C:/Users/shume/Downloads/CAP_Data/sample_files'\n",
    "\n",
    "# Ensure the sample directory exists, if not, create it\n",
    "if not os.path.exists(Sample_directory):\n",
    "    os.makedirs(Sample_directory)\n",
    "\n",
    "# List of possible encodings to try\n",
    "encodings = ['utf-8', 'ISO-8859-1', 'cp1252']\n",
    "\n",
    "# Loop through each file in the main directory\n",
    "for filename in os.listdir(Main_directory):\n",
    "    if filename.endswith('.csv'):\n",
    "        # Construct the full file path for the input file\n",
    "        input_file_path = os.path.join(Main_directory, filename)\n",
    "        \n",
    "        # Attempt to read the file with different encodings\n",
    "        for encoding in encodings:\n",
    "            try:\n",
    "                df = pd.read_csv(input_file_path, encoding=encoding)\n",
    "                break  # Stop trying further if successful\n",
    "            except UnicodeDecodeError:\n",
    "                continue  # Try the next encoding if there's an error\n",
    "        \n",
    "        # Get the first 500 rows\n",
    "        sample_df = df.head(500)\n",
    "        \n",
    "        # Construct the full file path for the output sample file\n",
    "        sample_file_name = os.path.join(Sample_directory, 'sample_' + filename)\n",
    "        \n",
    "        # Save the sample to a new CSV file in the output directory\n",
    "        sample_df.to_csv(sample_file_name, index=False)\n",
    "        print(f'Sample file created for {filename}: {sample_file_name}')\n"
   ]
  },
  {
   "cell_type": "code",
   "execution_count": null,
   "metadata": {},
   "outputs": [],
   "source": []
  }
 ],
 "metadata": {
  "kernelspec": {
   "display_name": "Python 3",
   "language": "python",
   "name": "python3"
  },
  "language_info": {
   "codemirror_mode": {
    "name": "ipython",
    "version": 3
   },
   "file_extension": ".py",
   "mimetype": "text/x-python",
   "name": "python",
   "nbconvert_exporter": "python",
   "pygments_lexer": "ipython3",
   "version": "3.12.2"
  }
 },
 "nbformat": 4,
 "nbformat_minor": 2
}
